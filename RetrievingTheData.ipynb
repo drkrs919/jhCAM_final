{
 "cells": [
  {
   "cell_type": "markdown",
   "id": "37ad660d-5d10-4dd8-a496-4dbdc7125792",
   "metadata": {},
   "source": [
    "**Getting and storing the pickled datasets**\n",
    "\n",
    "Your two datasets are stored online as pickled pandas data frames. \n",
    "\n",
    "These are binary files and you have been given the urls for these files. \n",
    "\n",
    "The following code can be used to download one of these binary files and write it to a file on your own computer.\n",
    "\n",
    "To use this code, you need to substitute **your own url** and a file name you want to use to store the file on your computer.\n",
    "\n",
    "You will need to do this for each of the two files you have been provided with."
   ]
  },
  {
   "cell_type": "code",
   "execution_count": 1,
   "id": "116dcf50-0e9d-4728-9a29-45bb2967cf82",
   "metadata": {},
   "outputs": [
    {
     "name": "stdout",
     "output_type": "stream",
     "text": [
      "<Response [200]>\n",
      "<Response [200]>\n"
     ]
    }
   ],
   "source": [
    "import requests as req\n",
    "\n",
    "filename=\"training_data.pkl\"\n",
    "url=\"http://jesse.ams.jhu.edu/~dan/FinalAssignmentSpring2024/Train_9a39.pkl\"\n",
    "\n",
    "res=req.get(url)\n",
    "print(res)\n",
    "with open(filename, 'wb') as fout:\n",
    "    for chunk in res.iter_content(chunk_size=1024):\n",
    "        if chunk:\n",
    "            fout.write(chunk)\n",
    "            \n",
    "filename2='test_data.pkl'\n",
    "url2='http://jesse.ams.jhu.edu/~dan/FinalAssignmentSpring2024/TestPredictors_9a39.pkl'\n",
    "res2=req.get(url2)\n",
    "print(res2)\n",
    "with open(filename2, 'wb') as fout:\n",
    "    for chunk in res2.iter_content(chunk_size=1024):\n",
    "        if chunk:\n",
    "            fout.write(chunk)"
   ]
  },
  {
   "cell_type": "markdown",
   "id": "56ec0902-5321-455e-8cfa-28297f5a1383",
   "metadata": {},
   "source": [
    "**Reading the pickled dataset into pandas**\n",
    "\n",
    "Once you have stored the pickled dataset using some file name, you can read it into pandas as a data frame using the following code."
   ]
  },
  {
   "cell_type": "code",
   "execution_count": 2,
   "id": "ad7035a3-e3bc-41a0-b7ee-bad64b4293a2",
   "metadata": {},
   "outputs": [],
   "source": [
    "import pandas as pd\n",
    "filename=\"training_data.pkl\"\n",
    "df=pd.read_pickle(filename)"
   ]
  },
  {
   "cell_type": "code",
   "execution_count": null,
   "id": "cb3249c2-0f3e-49a3-946e-051dbf1bbc2e",
   "metadata": {},
   "outputs": [],
   "source": []
  }
 ],
 "metadata": {
  "kernelspec": {
   "display_name": "Python 3 (ipykernel)",
   "language": "python",
   "name": "python3"
  },
  "language_info": {
   "codemirror_mode": {
    "name": "ipython",
    "version": 3
   },
   "file_extension": ".py",
   "mimetype": "text/x-python",
   "name": "python",
   "nbconvert_exporter": "python",
   "pygments_lexer": "ipython3",
   "version": "3.11.5"
  }
 },
 "nbformat": 4,
 "nbformat_minor": 5
}
